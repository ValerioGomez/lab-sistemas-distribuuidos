{
  "nbformat": 4,
  "nbformat_minor": 0,
  "metadata": {
    "colab": {
      "provenance": []
    },
    "kernelspec": {
      "name": "python3",
      "display_name": "Python 3"
    },
    "language_info": {
      "name": "python"
    }
  },
  "cells": [
    {
      "cell_type": "code",
      "execution_count": null,
      "metadata": {
        "id": "e8y0_4vB12qY"
      },
      "outputs": [],
      "source": [
        "import numpy as np\n",
        "import time as tm\n",
        "from math import sqrt\n",
        "n = 10000000"
      ]
    },
    {
      "cell_type": "code",
      "source": [
        "print(\"Comenzando a calcular ... \")\n",
        "start = tm.time()\n",
        "normal_results = [sqrt(i) for i in range(n)]\n",
        "end = tm.time()\n",
        "print(f\"Tiempo total: {end - start}s\")"
      ],
      "metadata": {
        "colab": {
          "base_uri": "https://localhost:8080/"
        },
        "id": "dQ9b3FlC19Mk",
        "outputId": "a5fd4324-25a9-4b6a-a0f4-ebac3d333dad"
      },
      "execution_count": null,
      "outputs": [
        {
          "output_type": "stream",
          "name": "stdout",
          "text": [
            "Comenzando a calcular ... \n",
            "Tiempo total: 0.8488864898681641s\n"
          ]
        }
      ]
    },
    {
      "cell_type": "code",
      "source": [
        "print(\"Comenzando a calcular ... \")\n",
        "start = tm.time()\n",
        "data = np.arange(n)\n",
        "numpy_results = np.sqrt(data)\n",
        "end = tm.time()\n",
        "print(f\"Tiempo total: {end - start}s\")"
      ],
      "metadata": {
        "colab": {
          "base_uri": "https://localhost:8080/"
        },
        "id": "HIN7sC022APE",
        "outputId": "eb47e01b-4294-4b86-ca77-8b1de5cdf165"
      },
      "execution_count": null,
      "outputs": [
        {
          "output_type": "stream",
          "name": "stdout",
          "text": [
            "Comenzando a calcular ... \n",
            "Tiempo total: 0.136366605758667s\n"
          ]
        }
      ]
    },
    {
      "cell_type": "code",
      "source": [
        "from joblib import Parallel\n",
        "from joblib import delayed"
      ],
      "metadata": {
        "id": "SRP_-_NH2Dg2"
      },
      "execution_count": null,
      "outputs": []
    },
    {
      "cell_type": "code",
      "source": [
        "print(\"Comenzando a calcular ... \")\n",
        "start = tm.time()\n",
        "parallel_pool = Parallel(n_jobs=2)\n",
        "parallel_sqrt = delayed(sqrt)\n",
        "parallel_tasks = [parallel_sqrt(i) for i in range(n)]\n",
        "parallel_results = parallel_pool(parallel_tasks)\n",
        "end = tm.time()\n",
        "print(f\"Tiempo total: {end - start}s\")"
      ],
      "metadata": {
        "colab": {
          "base_uri": "https://localhost:8080/"
        },
        "id": "mn727Nib2D2g",
        "outputId": "da403b16-226e-4646-aee5-b1f86feb99f1"
      },
      "execution_count": null,
      "outputs": [
        {
          "output_type": "stream",
          "name": "stdout",
          "text": [
            "Comenzando a calcular ... \n",
            "Tiempo total: 32.20835757255554s\n"
          ]
        }
      ]
    },
    {
      "cell_type": "code",
      "source": [
        "print(\"Comenzando a calcular ... \")\n",
        "start = tm.time()\n",
        "parallel_pool = Parallel(n_jobs=4)\n",
        "parallel_sqrt = delayed(sqrt)\n",
        "parallel_tasks = [parallel_sqrt(i) for i in range(n)]\n",
        "parallel_results = parallel_pool(parallel_tasks)\n",
        "end = tm.time()\n",
        "print(f\"Tiempo total: {end - start}s\")"
      ],
      "metadata": {
        "colab": {
          "base_uri": "https://localhost:8080/"
        },
        "id": "lpfm0Agj2D4o",
        "outputId": "c3910b4e-134b-4e88-b32c-69391d910d28"
      },
      "execution_count": null,
      "outputs": [
        {
          "output_type": "stream",
          "name": "stdout",
          "text": [
            "Comenzando a calcular ... \n",
            "Tiempo total: 26.726178884506226s\n"
          ]
        }
      ]
    },
    {
      "cell_type": "code",
      "source": [
        "print(\"Comenzando a calcular ... \")\n",
        "start = tm.time()\n",
        "parallel_pool = Parallel(n_jobs=2)\n",
        "parallel_sqrt = delayed(np.sqrt)  # Notar que aquí usamos np.sqrt\n",
        "parallel_tasks = [parallel_sqrt(i) for i in range(n)]\n",
        "parallel_results = parallel_pool(parallel_tasks)\n",
        "end = tm.time()\n",
        "print(f\"Tiempo total: {end - start}s\")"
      ],
      "metadata": {
        "colab": {
          "base_uri": "https://localhost:8080/"
        },
        "id": "1TU_rUCN2D60",
        "outputId": "66b70991-6229-4c10-8210-8aab16f197f9"
      },
      "execution_count": null,
      "outputs": [
        {
          "output_type": "stream",
          "name": "stdout",
          "text": [
            "Comenzando a calcular ... \n",
            "Tiempo total: 63.993919372558594s\n"
          ]
        }
      ]
    },
    {
      "cell_type": "code",
      "source": [
        "print(\"Comenzando a calcular ... \")\n",
        "start = tm.time()\n",
        "parallel_pool = Parallel(n_jobs=2, batch_size=500000)\n",
        "parallel_sqrt = delayed(sqrt)\n",
        "parallel_tasks = [parallel_sqrt(i) for i in range(n)]\n",
        "parallel_results = parallel_pool(parallel_tasks)\n",
        "end = tm.time()\n",
        "print(f\"Tiempo total: {end - start}s\")"
      ],
      "metadata": {
        "colab": {
          "base_uri": "https://localhost:8080/"
        },
        "id": "O0OrOa7w2D88",
        "outputId": "d2c736a6-6686-4e08-ba11-57a82bb03260"
      },
      "execution_count": null,
      "outputs": [
        {
          "output_type": "stream",
          "name": "stdout",
          "text": [
            "Comenzando a calcular ... \n",
            "Tiempo total: 33.214820861816406s\n"
          ]
        }
      ]
    },
    {
      "cell_type": "code",
      "source": [
        "print(\"Comenzando a calcular ... \")\n",
        "start = tm.time()\n",
        "parallel_pool = Parallel(n_jobs=4, batch_size=int(n/4))\n",
        "parallel_sqrt = delayed(sqrt)\n",
        "parallel_tasks = [parallel_sqrt(i) for i in range(n)]\n",
        "parallel_results = parallel_pool(parallel_tasks)\n",
        "end = tm.time()\n",
        "print(f\"Tiempo total: {end - start}s\")"
      ],
      "metadata": {
        "colab": {
          "base_uri": "https://localhost:8080/"
        },
        "id": "4yvjbnri2peG",
        "outputId": "1bbfddd2-c394-4d81-f8b6-46f914d1758c"
      },
      "execution_count": null,
      "outputs": [
        {
          "output_type": "stream",
          "name": "stdout",
          "text": [
            "Comenzando a calcular ... \n",
            "Tiempo total: 37.335843086242676s\n"
          ]
        }
      ]
    },
    {
      "cell_type": "code",
      "source": [
        "lista = []\n",
        "t1 = tm.time()\n",
        "for i in range(n):\n",
        "    lista.append(i)\n",
        "t2 = tm.time()\n",
        "print(t2 - t1)"
      ],
      "metadata": {
        "colab": {
          "base_uri": "https://localhost:8080/"
        },
        "id": "3ARWzZ6p2pgc",
        "outputId": "61bd43c7-3413-4758-cdcc-aa3bd2624c8d"
      },
      "execution_count": null,
      "outputs": [
        {
          "output_type": "stream",
          "name": "stdout",
          "text": [
            "0.9895100593566895\n"
          ]
        }
      ]
    },
    {
      "cell_type": "code",
      "source": [
        "array = np.array([])\n",
        "t1 = tm.time()\n",
        "for i in range(n):\n",
        "    array = np.append(array, i)\n",
        "t2 = tm.time()\n",
        "print(t2 - t1)"
      ],
      "metadata": {
        "id": "geYTqzGp-x_e"
      },
      "execution_count": null,
      "outputs": []
    }
  ]
}